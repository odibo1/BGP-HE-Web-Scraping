{
  "nbformat": 4,
  "nbformat_minor": 0,
  "metadata": {
    "colab": {
      "name": "Untitled0.ipynb",
      "provenance": [],
      "authorship_tag": "ABX9TyM2r5439NcymJRjsYgtsJsH",
      "include_colab_link": true
    },
    "kernelspec": {
      "name": "python3",
      "display_name": "Python 3"
    }
  },
  "cells": [
    {
      "cell_type": "markdown",
      "metadata": {
        "id": "view-in-github",
        "colab_type": "text"
      },
      "source": [
        "<a href=\"https://colab.research.google.com/github/odibo1/BGP-HE-Web-Scraping/blob/master/Intern_Project.ipynb\" target=\"_parent\"><img src=\"https://colab.research.google.com/assets/colab-badge.svg\" alt=\"Open In Colab\"/></a>"
      ]
    },
    {
      "cell_type": "code",
      "metadata": {
        "id": "qHnUiINikfb0",
        "colab_type": "code",
        "colab": {}
      },
      "source": [
        "from bs4 import BeautifulSoup\n",
        "import requests\n",
        "import pandas as pd\n",
        "from pprint import pprint"
      ],
      "execution_count": 0,
      "outputs": []
    },
    {
      "cell_type": "code",
      "metadata": {
        "id": "mpD2GzDZpwe2",
        "colab_type": "code",
        "colab": {
          "base_uri": "https://localhost:8080/",
          "height": 34
        },
        "outputId": "67ec0d23-f685-4ff3-97b4-ab79f9e06a62"
      },
      "source": [
        "home_url = \"https://bgp.he.net/report/world\"\n",
        "\n",
        "print(home_url)"
      ],
      "execution_count": 7,
      "outputs": [
        {
          "output_type": "stream",
          "text": [
            "https://bgp.he.net/report/world\n"
          ],
          "name": "stdout"
        }
      ]
    },
    {
      "cell_type": "code",
      "metadata": {
        "id": "5dzUZKEsqGdB",
        "colab_type": "code",
        "colab": {
          "base_uri": "https://localhost:8080/",
          "height": 302
        },
        "outputId": "0bf05f6c-aaa7-4c06-cb84-39e2d8cafa61"
      },
      "source": [
        "agent = {\"User-Agent\":'Mozilla/5.0 (Windows NT 6.3; WOW64) AppleWebKit/537.36 (KHTML, like Gecko) Chrome/59.0.3071.115 Safari/537.36'}\n",
        "\n",
        "home_page = requests.get(home_url, headers = agent)\n",
        "\n",
        "print(home_page.text[0:1000])"
      ],
      "execution_count": 9,
      "outputs": [
        {
          "output_type": "stream",
          "text": [
            "<!DOCTYPE html PUBLIC \"-//W3C//DTD XHTML 1.0 Strict//EN\"\n",
            " \"http://www.w3.org/TR/xhtml1/DTD/xhtml1-strict.dtd\">\n",
            "<html xmlns=\"http://www.w3.org/1999/xhtml\" xml:lang=\"en\" lang=\"en\">\n",
            "<head>\n",
            "<!-- rmosher 2010 - 2016 -->\n",
            "<meta http-equiv=\"Content-type\" content=\"text/html;charset=UTF-8\" />\n",
            "<meta name=\"viewport\" content=\"width=device-width, initial-scale=1\" />\n",
            "<script src=\"/javascripts/jquery/jquery-1.4.4.js?1414109767\" type=\"text/javascript\"></script>\n",
            "<script src=\"/javascripts/jquery/jquery.history.js?1364589087\" type=\"text/javascript\"></script>\n",
            "<script src=\"/javascripts/jquery/jquery-ui.js?1269850573\" type=\"text/javascript\"></script>\n",
            "<script src=\"/javascripts/jquery/jrails.js?1269850578\" type=\"text/javascript\"></script>\n",
            "<script src=\"/javascripts/bgp.js?1260526324\" type=\"text/javascript\"></script>\n",
            "<link href=\"/stylesheets/bgp.css?1553925714\" media=\"all\" rel=\"stylesheet\" type=\"text/css\" />\n",
            "\n",
            "\n",
            "<script src=\"/javascripts/tabs.js?1364588335\" type=\"text/javascript\"></script>\n",
            "<script src=\"/javascript\n"
          ],
          "name": "stdout"
        }
      ]
    },
    {
      "cell_type": "code",
      "metadata": {
        "id": "R73f9GRnsFSy",
        "colab_type": "code",
        "colab": {}
      },
      "source": [
        ""
      ],
      "execution_count": 0,
      "outputs": []
    },
    {
      "cell_type": "code",
      "metadata": {
        "id": "br1-LdpykfcE",
        "colab_type": "code",
        "outputId": "9b452555-ee12-4123-ea32-53f846066ef0",
        "colab": {
          "base_uri": "https://localhost:8080/",
          "height": 255
        }
      },
      "source": [
        "# use HTML parsing library to make finding links easier\n",
        "html = BeautifulSoup(home_page.text, \"html5lib\") \n",
        "\n",
        "links = html.findAll('a')\n",
        "\n",
        "print(f\"There are {len(links)} links on this webpage\")\n",
        "for randomlink in pd.np.random.choice(len(links), 10):\n",
        "    print(f\"Link #{randomlink} is: \" + str(links[randomlink]))\n",
        "\n",
        "   "
      ],
      "execution_count": 17,
      "outputs": [
        {
          "output_type": "stream",
          "text": [
            "There are 262 links on this webpage\n",
            "Link #68 is: <a href=\"/country/MY\">Report</a>\n",
            "Link #5 is: <a href=\"/report/exchanges\">Exchange Report</a>\n",
            "Link #62 is: <a href=\"/country/TW\">Report</a>\n",
            "Link #146 is: <a href=\"/country/GI\">Report</a>\n",
            "Link #120 is: <a href=\"/country/BA\">Report</a>\n",
            "Link #107 is: <a href=\"/country/AL\">Report</a>\n",
            "Link #162 is: <a href=\"/country/VG\">Report</a>\n",
            "Link #198 is: <a href=\"/country/GD\">Report</a>\n",
            "Link #68 is: <a href=\"/country/MY\">Report</a>\n",
            "Link #16 is: <a href=\"//bgp.he.net/ipv6-progress-report.cgi\">IPv6 Progress</a>\n"
          ],
          "name": "stdout"
        },
        {
          "output_type": "stream",
          "text": [
            "/usr/local/lib/python3.6/dist-packages/ipykernel_launcher.py:7: FutureWarning: The pandas.np module is deprecated and will be removed from pandas in a future version. Import numpy directly instead\n",
            "  import sys\n"
          ],
          "name": "stderr"
        }
      ]
    },
    {
      "cell_type": "code",
      "metadata": {
        "id": "UOnm7_yVutdX",
        "colab_type": "code",
        "colab": {
          "base_uri": "https://localhost:8080/",
          "height": 34
        },
        "outputId": "d219b5b8-b19d-4d07-9ec7-da3865a06a67"
      },
      "source": [
        "country_links = []\n",
        "\n",
        "for link in links:\n",
        "    if 'Report' in link:\n",
        "        country_links.append(link['href'])\n",
        "\n",
        "len(country_links)"
      ],
      "execution_count": 19,
      "outputs": [
        {
          "output_type": "execute_result",
          "data": {
            "text/plain": [
              "241"
            ]
          },
          "metadata": {
            "tags": []
          },
          "execution_count": 19
        }
      ]
    },
    {
      "cell_type": "code",
      "metadata": {
        "id": "q_26I57H591d",
        "colab_type": "code",
        "colab": {}
      },
      "source": [
        "country_URL\n",
        "\n",
        "AS_links = html.findAll('a')"
      ],
      "execution_count": 0,
      "outputs": []
    },
    {
      "cell_type": "code",
      "metadata": {
        "id": "nahWbL-l5Ny5",
        "colab_type": "code",
        "colab": {}
      },
      "source": [
        "\n",
        "\n",
        "ASN = []\n",
        "\n",
        "for link in country_links:\n",
        "    if \"AS\""
      ],
      "execution_count": 0,
      "outputs": []
    }
  ]
}